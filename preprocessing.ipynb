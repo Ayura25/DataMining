{
  "nbformat": 4,
  "nbformat_minor": 0,
  "metadata": {
    "colab": {
      "provenance": []
    },
    "kernelspec": {
      "name": "python3",
      "display_name": "Python 3"
    },
    "language_info": {
      "name": "python"
    },
    "accelerator": "GPU",
    "gpuClass": "standard"
  },
  "cells": [
    {
      "cell_type": "markdown",
      "source": [
        "# Preprocessing Data \n",
        "- Nama : Mufida Rahayu\n",
        "- NIM  : A11.2020.12918"
      ],
      "metadata": {
        "id": "LgZI5IIhhZoP"
      }
    },
    {
      "cell_type": "code",
      "execution_count": 1,
      "metadata": {
        "id": "kYi0D1vghOX7"
      },
      "outputs": [],
      "source": [
        "import numpy as np\n",
        "import matplotlib.pyplot as plt\n",
        "import pandas as pd"
      ]
    },
    {
      "cell_type": "code",
      "source": [
        "dataset = pd.read_csv('/content/music_genre.csv')\n",
        "x = dataset.iloc[:, :-1].values\n",
        "y = dataset.iloc[:, -1].values"
      ],
      "metadata": {
        "id": "N8p3HicFi2kt"
      },
      "execution_count": 49,
      "outputs": []
    },
    {
      "cell_type": "code",
      "source": [
        "print(x)"
      ],
      "metadata": {
        "colab": {
          "base_uri": "https://localhost:8080/"
        },
        "id": "ymGw6rivjvUI",
        "outputId": "775b2a28-5f2d-4383-fcca-23455cec3f69"
      },
      "execution_count": 50,
      "outputs": [
        {
          "output_type": "stream",
          "name": "stdout",
          "text": [
            "[['Bruno Mars' \"That's What I Like (feat. Gucci Mane)\" 60.0 ... 134.071\n",
            "  234596.0 4]\n",
            " ['Boston' 'Hitch a Ride' 54.0 ... 116.454 251733.0 4]\n",
            " ['The Raincoats' 'No Side to Fall In' 35.0 ... 147.681 109667.0 4]\n",
            " ...\n",
            " ['Smash Hit Combo' 'Peine perdue' 34.0 ... 105.0 216222.0 4]\n",
            " ['Beherit' \"Salomon's Gate\" 29.0 ... 131.363 219693.0 4]\n",
            " ['The Raconteurs' 'Broken Boy Soldier' 43.0 ... 138.102 182227.0 4]]\n"
          ]
        }
      ]
    },
    {
      "cell_type": "code",
      "source": [
        "print(y)"
      ],
      "metadata": {
        "colab": {
          "base_uri": "https://localhost:8080/"
        },
        "id": "qQIaFyiLj0Jw",
        "outputId": "91e0fecc-bea5-425d-a903-cf6f4da26f96"
      },
      "execution_count": 51,
      "outputs": [
        {
          "output_type": "stream",
          "name": "stdout",
          "text": [
            "[ 5 10  6 ...  8  8 10]\n"
          ]
        }
      ]
    },
    {
      "cell_type": "code",
      "source": [
        "from sklearn.impute import SimpleImputer\n",
        "imputer = SimpleImputer(missing_values=np.nan, strategy='mean')\n",
        "imputer = imputer.fit(x[:, 2:15])\n",
        "x[:, 2:15] = imputer.transform(x[:, 2:15])"
      ],
      "metadata": {
        "id": "3Xg9b1mfj5CD"
      },
      "execution_count": 55,
      "outputs": []
    },
    {
      "cell_type": "code",
      "source": [
        "print(x)"
      ],
      "metadata": {
        "colab": {
          "base_uri": "https://localhost:8080/"
        },
        "id": "bBpTcWo91aFf",
        "outputId": "f43fb027-acdf-49c8-af12-39db6b40a2a7"
      },
      "execution_count": 56,
      "outputs": [
        {
          "output_type": "stream",
          "name": "stdout",
          "text": [
            "[['Bruno Mars' \"That's What I Like (feat. Gucci Mane)\" 60.0 ... 134.071\n",
            "  234596.0 4]\n",
            " ['Boston' 'Hitch a Ride' 54.0 ... 116.454 251733.0 4]\n",
            " ['The Raincoats' 'No Side to Fall In' 35.0 ... 147.681 109667.0 4]\n",
            " ...\n",
            " ['Smash Hit Combo' 'Peine perdue' 34.0 ... 105.0 216222.0 4]\n",
            " ['Beherit' \"Salomon's Gate\" 29.0 ... 131.363 219693.0 4]\n",
            " ['The Raconteurs' 'Broken Boy Soldier' 43.0 ... 138.102 182227.0 4]]\n"
          ]
        }
      ]
    },
    {
      "cell_type": "code",
      "source": [
        "from sklearn.compose import ColumnTransformer\n",
        "from sklearn.preprocessing import OneHotEncoder\n",
        "ct = ColumnTransformer(transformers=[('encoder', OneHotEncoder(sparse_output=False), [0])], remainder='passthrough')\n",
        "x = np.array(ct.fit_transform(x))"
      ],
      "metadata": {
        "id": "X6xXEq9z2L-F"
      },
      "execution_count": 61,
      "outputs": []
    },
    {
      "cell_type": "code",
      "source": [
        "print(x)"
      ],
      "metadata": {
        "colab": {
          "base_uri": "https://localhost:8080/"
        },
        "id": "cdZ0F2p62OaK",
        "outputId": "0c4e9534-757a-49e7-e71f-1b449eff5735"
      },
      "execution_count": 62,
      "outputs": [
        {
          "output_type": "stream",
          "name": "stdout",
          "text": [
            "[[0.0 1.0 0.0 ... 134.071 234596.0 4]\n",
            " [0.0 1.0 0.0 ... 116.454 251733.0 4]\n",
            " [0.0 1.0 0.0 ... 147.681 109667.0 4]\n",
            " ...\n",
            " [0.0 1.0 0.0 ... 105.0 216222.0 4]\n",
            " [0.0 1.0 0.0 ... 131.363 219693.0 4]\n",
            " [0.0 1.0 0.0 ... 138.102 182227.0 4]]\n"
          ]
        }
      ]
    },
    {
      "cell_type": "code",
      "source": [
        "from sklearn.preprocessing import LabelEncoder\n",
        "le = LabelEncoder()\n",
        "y = le.fit_transform(y)"
      ],
      "metadata": {
        "id": "uHa2iOg-1dhs"
      },
      "execution_count": 63,
      "outputs": []
    },
    {
      "cell_type": "code",
      "source": [
        "print(y)"
      ],
      "metadata": {
        "colab": {
          "base_uri": "https://localhost:8080/"
        },
        "id": "boy-IqyT1fno",
        "outputId": "ead18d55-ed02-42c7-a7f0-6d0f4882c298"
      },
      "execution_count": 64,
      "outputs": [
        {
          "output_type": "stream",
          "name": "stdout",
          "text": [
            "[ 5 10  6 ...  8  8 10]\n"
          ]
        }
      ]
    },
    {
      "cell_type": "code",
      "source": [
        "from sklearn.model_selection import train_test_split\n",
        "x_train, x_test, y_train, y_test = train_test_split(x, y, test_size=0.2, random_state=1)"
      ],
      "metadata": {
        "id": "sVblmP5U1g-P"
      },
      "execution_count": 65,
      "outputs": []
    },
    {
      "cell_type": "code",
      "source": [
        "print(x_train)"
      ],
      "metadata": {
        "colab": {
          "base_uri": "https://localhost:8080/"
        },
        "id": "e9b9vEnG1knU",
        "outputId": "31a2a508-65ae-4b48-c524-32a8539d7901"
      },
      "execution_count": 66,
      "outputs": [
        {
          "output_type": "stream",
          "name": "stdout",
          "text": [
            "[[0.0 1.0 0.0 ... 152.638 201194.0 4]\n",
            " [0.0 1.0 0.0 ... 79.094 229893.0 4]\n",
            " [0.0 1.0 0.0 ... 67.528 183956.0 4]\n",
            " ...\n",
            " [0.0 1.0 0.0 ... 112.963 375187.0 4]\n",
            " [0.0 1.0 0.0 ... 91.984 174585.0 4]\n",
            " [0.0 1.0 0.0 ... 141.967 182307.0 4]]\n"
          ]
        }
      ]
    },
    {
      "cell_type": "code",
      "source": [
        "print(x_test)"
      ],
      "metadata": {
        "colab": {
          "base_uri": "https://localhost:8080/"
        },
        "id": "uNEHDlHn1mz3",
        "outputId": "cb9352af-44b2-4a2b-bd24-42ec5cd0474c"
      },
      "execution_count": 67,
      "outputs": [
        {
          "output_type": "stream",
          "name": "stdout",
          "text": [
            "[[0.0 1.0 0.0 ... 119.958 185916.0 4]\n",
            " [0.0 1.0 0.0 ... 82.113 269693.0 4]\n",
            " [0.0 1.0 0.0 ... 104.627 249094.0 4]\n",
            " ...\n",
            " [0.0 1.0 0.0 ... 110.615 281133.0 4]\n",
            " [0.0 1.0 0.0 ... 127.409 180433.0 4]\n",
            " [0.0 1.0 0.0 ... 139.048 4.2605 4]]\n"
          ]
        }
      ]
    },
    {
      "cell_type": "code",
      "source": [
        "print(y_train)"
      ],
      "metadata": {
        "colab": {
          "base_uri": "https://localhost:8080/"
        },
        "id": "YvBAYSha1pPC",
        "outputId": "0dd57118-591f-426c-e137-0ad4376be826"
      },
      "execution_count": 68,
      "outputs": [
        {
          "output_type": "stream",
          "name": "stdout",
          "text": [
            "[ 1  1 10 ...  8  5  6]\n"
          ]
        }
      ]
    },
    {
      "cell_type": "code",
      "source": [
        "print(y_test)"
      ],
      "metadata": {
        "colab": {
          "base_uri": "https://localhost:8080/"
        },
        "id": "6GFqhGuE1tJT",
        "outputId": "55614521-7900-40df-9407-a7f1d253ed30"
      },
      "execution_count": 69,
      "outputs": [
        {
          "output_type": "stream",
          "name": "stdout",
          "text": [
            "[1 5 8 ... 6 2 0]\n"
          ]
        }
      ]
    },
    {
      "cell_type": "code",
      "source": [
        "import numpy as np\n",
        "from sklearn.preprocessing import StandardScaler\n",
        "sc = StandardScaler()\n",
        "x_train[:, :15] = np.array(sc.fit_transform(x_train[:, :15]))\n",
        "x_test[:, :15] = sc.transform(x_test[:, :15])"
      ],
      "metadata": {
        "id": "jKLULvdX1_po"
      },
      "execution_count": 87,
      "outputs": []
    },
    {
      "cell_type": "code",
      "source": [
        "print(x_train)"
      ],
      "metadata": {
        "colab": {
          "base_uri": "https://localhost:8080/"
        },
        "id": "T6wxsNwp2dTY",
        "outputId": "75787a66-d39c-484c-c6b9-09919083328c"
      },
      "execution_count": 88,
      "outputs": [
        {
          "output_type": "stream",
          "name": "stdout",
          "text": [
            "[[-0.008334780469459319 0.008334780469460795 -0.008334780469459319 ...\n",
            "  152.638 201194.0 4]\n",
            " [-0.008334780469459319 0.008334780469460795 -0.008334780469459319 ...\n",
            "  79.094 229893.0 4]\n",
            " [-0.008334780469459319 0.008334780469460795 -0.008334780469459319 ...\n",
            "  67.528 183956.0 4]\n",
            " ...\n",
            " [-0.008334780469459319 0.008334780469460795 -0.008334780469459319 ...\n",
            "  112.963 375187.0 4]\n",
            " [-0.008334780469459319 0.008334780469460795 -0.008334780469459319 ...\n",
            "  91.984 174585.0 4]\n",
            " [-0.008334780469459319 0.008334780469460795 -0.008334780469459319 ...\n",
            "  141.967 182307.0 4]]\n"
          ]
        }
      ]
    },
    {
      "cell_type": "code",
      "source": [
        "print(x_test)"
      ],
      "metadata": {
        "colab": {
          "base_uri": "https://localhost:8080/"
        },
        "id": "X8SUIO3A25wC",
        "outputId": "eb707e28-80e6-4a1d-ee52-3b6b49fe0e64"
      },
      "execution_count": 89,
      "outputs": [
        {
          "output_type": "stream",
          "name": "stdout",
          "text": [
            "[[2.525625312605317e-15 0.9999999999999906 2.525625312605317e-15 ...\n",
            "  119.958 185916.0 4]\n",
            " [2.525625312605317e-15 0.9999999999999906 2.525625312605317e-15 ...\n",
            "  82.113 269693.0 4]\n",
            " [2.525625312605317e-15 0.9999999999999906 2.525625312605317e-15 ...\n",
            "  104.627 249094.0 4]\n",
            " ...\n",
            " [2.525625312605317e-15 0.9999999999999906 2.525625312605317e-15 ...\n",
            "  110.615 281133.0 4]\n",
            " [2.525625312605317e-15 0.9999999999999906 2.525625312605317e-15 ...\n",
            "  127.409 180433.0 4]\n",
            " [2.525625312605317e-15 0.9999999999999906 2.525625312605317e-15 ...\n",
            "  139.048 4.2605 4]]\n"
          ]
        }
      ]
    }
  ]
}